{
 "cells": [
  {
   "cell_type": "code",
   "execution_count": 1,
   "id": "aa905ed3-cfda-480a-834a-04a5ee73a2ea",
   "metadata": {},
   "outputs": [],
   "source": [
    "import numpy as np\n",
    "import pandas as pd"
   ]
  },
  {
   "cell_type": "code",
   "execution_count": 2,
   "id": "0cc7916f-2d02-4122-ba29-4a4ddb56a35e",
   "metadata": {},
   "outputs": [],
   "source": [
    "credit_df = pd.read_csv('datasets/credit_data.csv')"
   ]
  },
  {
   "cell_type": "code",
   "execution_count": 3,
   "id": "bed5572c-c976-429c-9fd4-12cb8f5dba24",
   "metadata": {},
   "outputs": [
    {
     "data": {
      "text/html": [
       "<div>\n",
       "<style scoped>\n",
       "    .dataframe tbody tr th:only-of-type {\n",
       "        vertical-align: middle;\n",
       "    }\n",
       "\n",
       "    .dataframe tbody tr th {\n",
       "        vertical-align: top;\n",
       "    }\n",
       "\n",
       "    .dataframe thead th {\n",
       "        text-align: right;\n",
       "    }\n",
       "</style>\n",
       "<table border=\"1\" class=\"dataframe\">\n",
       "  <thead>\n",
       "    <tr style=\"text-align: right;\">\n",
       "      <th></th>\n",
       "      <th>Time</th>\n",
       "      <th>V1</th>\n",
       "      <th>V2</th>\n",
       "      <th>V3</th>\n",
       "      <th>V4</th>\n",
       "      <th>V5</th>\n",
       "      <th>V6</th>\n",
       "      <th>V7</th>\n",
       "      <th>V8</th>\n",
       "      <th>V9</th>\n",
       "      <th>...</th>\n",
       "      <th>V21</th>\n",
       "      <th>V22</th>\n",
       "      <th>V23</th>\n",
       "      <th>V24</th>\n",
       "      <th>V25</th>\n",
       "      <th>V26</th>\n",
       "      <th>V27</th>\n",
       "      <th>V28</th>\n",
       "      <th>Amount</th>\n",
       "      <th>Class</th>\n",
       "    </tr>\n",
       "  </thead>\n",
       "  <tbody>\n",
       "    <tr>\n",
       "      <th>115516</th>\n",
       "      <td>73892.0</td>\n",
       "      <td>-0.437811</td>\n",
       "      <td>1.373016</td>\n",
       "      <td>1.011244</td>\n",
       "      <td>1.079726</td>\n",
       "      <td>-0.279191</td>\n",
       "      <td>-0.775242</td>\n",
       "      <td>0.202619</td>\n",
       "      <td>0.239605</td>\n",
       "      <td>-1.049486</td>\n",
       "      <td>...</td>\n",
       "      <td>-0.101656</td>\n",
       "      <td>-0.339511</td>\n",
       "      <td>0.088823</td>\n",
       "      <td>0.390392</td>\n",
       "      <td>-0.727172</td>\n",
       "      <td>0.251052</td>\n",
       "      <td>0.040072</td>\n",
       "      <td>0.105115</td>\n",
       "      <td>1.98</td>\n",
       "      <td>0</td>\n",
       "    </tr>\n",
       "    <tr>\n",
       "      <th>4980</th>\n",
       "      <td>4544.0</td>\n",
       "      <td>-0.908938</td>\n",
       "      <td>0.872991</td>\n",
       "      <td>2.194870</td>\n",
       "      <td>0.750183</td>\n",
       "      <td>0.504101</td>\n",
       "      <td>-0.044934</td>\n",
       "      <td>0.189569</td>\n",
       "      <td>0.021651</td>\n",
       "      <td>0.487773</td>\n",
       "      <td>...</td>\n",
       "      <td>-0.261498</td>\n",
       "      <td>-0.470608</td>\n",
       "      <td>-0.077343</td>\n",
       "      <td>0.058177</td>\n",
       "      <td>-0.220649</td>\n",
       "      <td>0.263873</td>\n",
       "      <td>-0.050867</td>\n",
       "      <td>0.058459</td>\n",
       "      <td>1.17</td>\n",
       "      <td>0</td>\n",
       "    </tr>\n",
       "    <tr>\n",
       "      <th>204007</th>\n",
       "      <td>135070.0</td>\n",
       "      <td>-1.078591</td>\n",
       "      <td>0.532093</td>\n",
       "      <td>-3.095806</td>\n",
       "      <td>-0.458347</td>\n",
       "      <td>1.215955</td>\n",
       "      <td>-0.950828</td>\n",
       "      <td>1.171644</td>\n",
       "      <td>0.463784</td>\n",
       "      <td>-0.895880</td>\n",
       "      <td>...</td>\n",
       "      <td>0.538058</td>\n",
       "      <td>1.540525</td>\n",
       "      <td>0.372296</td>\n",
       "      <td>0.173347</td>\n",
       "      <td>-0.989158</td>\n",
       "      <td>0.379831</td>\n",
       "      <td>0.283443</td>\n",
       "      <td>-0.069412</td>\n",
       "      <td>67.67</td>\n",
       "      <td>0</td>\n",
       "    </tr>\n",
       "    <tr>\n",
       "      <th>159724</th>\n",
       "      <td>112853.0</td>\n",
       "      <td>-1.179739</td>\n",
       "      <td>1.071312</td>\n",
       "      <td>-0.036900</td>\n",
       "      <td>-0.781708</td>\n",
       "      <td>0.989733</td>\n",
       "      <td>-0.584698</td>\n",
       "      <td>1.033843</td>\n",
       "      <td>-0.516135</td>\n",
       "      <td>1.210659</td>\n",
       "      <td>...</td>\n",
       "      <td>-0.190907</td>\n",
       "      <td>0.011389</td>\n",
       "      <td>0.043886</td>\n",
       "      <td>0.490272</td>\n",
       "      <td>-0.718441</td>\n",
       "      <td>0.195126</td>\n",
       "      <td>-0.308436</td>\n",
       "      <td>0.150324</td>\n",
       "      <td>5.53</td>\n",
       "      <td>0</td>\n",
       "    </tr>\n",
       "    <tr>\n",
       "      <th>151654</th>\n",
       "      <td>95932.0</td>\n",
       "      <td>1.982044</td>\n",
       "      <td>0.909839</td>\n",
       "      <td>-1.538240</td>\n",
       "      <td>3.693872</td>\n",
       "      <td>1.305319</td>\n",
       "      <td>-0.276832</td>\n",
       "      <td>0.731750</td>\n",
       "      <td>-0.346789</td>\n",
       "      <td>-0.518915</td>\n",
       "      <td>...</td>\n",
       "      <td>0.016379</td>\n",
       "      <td>0.255312</td>\n",
       "      <td>-0.057082</td>\n",
       "      <td>-0.560714</td>\n",
       "      <td>0.379764</td>\n",
       "      <td>0.114241</td>\n",
       "      <td>-0.118176</td>\n",
       "      <td>-0.087828</td>\n",
       "      <td>9.00</td>\n",
       "      <td>0</td>\n",
       "    </tr>\n",
       "  </tbody>\n",
       "</table>\n",
       "<p>5 rows × 31 columns</p>\n",
       "</div>"
      ],
      "text/plain": [
       "            Time        V1        V2        V3        V4        V5        V6  \\\n",
       "115516   73892.0 -0.437811  1.373016  1.011244  1.079726 -0.279191 -0.775242   \n",
       "4980      4544.0 -0.908938  0.872991  2.194870  0.750183  0.504101 -0.044934   \n",
       "204007  135070.0 -1.078591  0.532093 -3.095806 -0.458347  1.215955 -0.950828   \n",
       "159724  112853.0 -1.179739  1.071312 -0.036900 -0.781708  0.989733 -0.584698   \n",
       "151654   95932.0  1.982044  0.909839 -1.538240  3.693872  1.305319 -0.276832   \n",
       "\n",
       "              V7        V8        V9  ...       V21       V22       V23  \\\n",
       "115516  0.202619  0.239605 -1.049486  ... -0.101656 -0.339511  0.088823   \n",
       "4980    0.189569  0.021651  0.487773  ... -0.261498 -0.470608 -0.077343   \n",
       "204007  1.171644  0.463784 -0.895880  ...  0.538058  1.540525  0.372296   \n",
       "159724  1.033843 -0.516135  1.210659  ... -0.190907  0.011389  0.043886   \n",
       "151654  0.731750 -0.346789 -0.518915  ...  0.016379  0.255312 -0.057082   \n",
       "\n",
       "             V24       V25       V26       V27       V28  Amount  Class  \n",
       "115516  0.390392 -0.727172  0.251052  0.040072  0.105115    1.98      0  \n",
       "4980    0.058177 -0.220649  0.263873 -0.050867  0.058459    1.17      0  \n",
       "204007  0.173347 -0.989158  0.379831  0.283443 -0.069412   67.67      0  \n",
       "159724  0.490272 -0.718441  0.195126 -0.308436  0.150324    5.53      0  \n",
       "151654 -0.560714  0.379764  0.114241 -0.118176 -0.087828    9.00      0  \n",
       "\n",
       "[5 rows x 31 columns]"
      ]
     },
     "execution_count": 3,
     "metadata": {},
     "output_type": "execute_result"
    }
   ],
   "source": [
    "credit_df.sample(5)"
   ]
  },
  {
   "cell_type": "code",
   "execution_count": 6,
   "id": "14e718ff-7346-4784-8705-063b5be6bcc1",
   "metadata": {},
   "outputs": [
    {
     "data": {
      "text/plain": [
       "Class\n",
       "0    284315\n",
       "1       492\n",
       "Name: count, dtype: int64"
      ]
     },
     "execution_count": 6,
     "metadata": {},
     "output_type": "execute_result"
    }
   ],
   "source": [
    "# distribution of the two classes\n",
    "credit_df['Class'].value_counts()"
   ]
  },
  {
   "cell_type": "markdown",
   "id": "6598b98d-7f56-454b-bd08-2e5a7521dc3f",
   "metadata": {},
   "source": [
    "this is an imbalanced dataset;\n",
    "\n",
    "0 => legal transactions\n",
    "1 => fradulent transactions"
   ]
  },
  {
   "cell_type": "code",
   "execution_count": 9,
   "id": "292b3113-fd33-4d7a-a8ca-4421ba22eb8a",
   "metadata": {},
   "outputs": [],
   "source": [
    "# separating the legit and fradulent transactions\n",
    "legit_df = credit_df[credit_df.Class == 0]\n",
    "fraud_df = credit_df[credit_df.Class == 1]"
   ]
  },
  {
   "cell_type": "markdown",
   "id": "9edc6aa7-601c-4669-a5d3-a0a60be64670",
   "metadata": {},
   "source": [
    "undersampling\n",
    "\n",
    "we take all the 492 fraud rows and select about 492 rows from legit_df"
   ]
  },
  {
   "cell_type": "code",
   "execution_count": 10,
   "id": "bf93336a-46b7-4384-b312-0b15d50a1e48",
   "metadata": {},
   "outputs": [],
   "source": [
    "legit_sample = legit_df.sample(492)"
   ]
  },
  {
   "cell_type": "code",
   "execution_count": 11,
   "id": "050e1eb4-a736-461d-b3dc-6c622965c1e9",
   "metadata": {},
   "outputs": [
    {
     "data": {
      "text/plain": [
       "(492, 31)"
      ]
     },
     "execution_count": 11,
     "metadata": {},
     "output_type": "execute_result"
    }
   ],
   "source": [
    "legit_sample.shape"
   ]
  },
  {
   "cell_type": "code",
   "execution_count": 12,
   "id": "f5b8ad6f-dd6b-4493-bcf8-d69bb383a95d",
   "metadata": {},
   "outputs": [],
   "source": [
    "# concatenating the two dataframe\n",
    "# axis = 0; for row-wise concatenation\n",
    "new_df = pd.concat([legit_sample, fraud_df], axis= 0)"
   ]
  },
  {
   "cell_type": "code",
   "execution_count": 14,
   "id": "ee4a9e00-160b-49c6-a190-d9184534c95d",
   "metadata": {},
   "outputs": [
    {
     "data": {
      "text/plain": [
       "Class\n",
       "0    492\n",
       "1    492\n",
       "Name: count, dtype: int64"
      ]
     },
     "execution_count": 14,
     "metadata": {},
     "output_type": "execute_result"
    }
   ],
   "source": [
    "new_df['Class'].value_counts()"
   ]
  }
 ],
 "metadata": {
  "kernelspec": {
   "display_name": "Python 3 (ipykernel)",
   "language": "python",
   "name": "python3"
  },
  "language_info": {
   "codemirror_mode": {
    "name": "ipython",
    "version": 3
   },
   "file_extension": ".py",
   "mimetype": "text/x-python",
   "name": "python",
   "nbconvert_exporter": "python",
   "pygments_lexer": "ipython3",
   "version": "3.11.4"
  }
 },
 "nbformat": 4,
 "nbformat_minor": 5
}
